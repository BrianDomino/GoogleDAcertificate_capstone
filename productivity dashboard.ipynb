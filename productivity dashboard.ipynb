{
 "cells": [
  {
   "cell_type": "code",
   "execution_count": 1,
   "id": "896dc0b5",
   "metadata": {},
   "outputs": [],
   "source": [
    "import pandas as pd\n",
    "import matplotlib.pyplot as plt\n",
    "import datetime\n",
    "from datetime import datetime"
   ]
  },
  {
   "cell_type": "markdown",
   "id": "9806a7aa",
   "metadata": {},
   "source": [
    "## Load productivity data"
   ]
  },
  {
   "cell_type": "code",
   "execution_count": 2,
   "id": "3d03f8e3",
   "metadata": {},
   "outputs": [],
   "source": [
    "# This will need to be updated every month\n",
    "\n",
    "data_path = '/Users/briandomino/Documents/Google Data Analytics Certificate/capstone project/BeFocused 05 Aug 2022.csv'"
   ]
  },
  {
   "cell_type": "code",
   "execution_count": 3,
   "id": "308f55ff",
   "metadata": {},
   "outputs": [],
   "source": [
    "raw_data = pd.read_csv(data_path)"
   ]
  },
  {
   "cell_type": "markdown",
   "id": "b0c47f5e",
   "metadata": {},
   "source": [
    "## Clean the data"
   ]
  },
  {
   "cell_type": "code",
   "execution_count": 4,
   "id": "8a313fe0",
   "metadata": {},
   "outputs": [],
   "source": [
    "# Remove the first row, which is blank\n",
    "raw_data.drop([0], inplace = True)"
   ]
  },
  {
   "cell_type": "code",
   "execution_count": 5,
   "id": "24668a17",
   "metadata": {},
   "outputs": [],
   "source": [
    "# Remove unneeded columns\n",
    "# Note the leading space in the column names, and the trailing space in the last one\n",
    "\n",
    "raw_data.drop(columns = [' Duration', ' Task state '], inplace = True)"
   ]
  },
  {
   "cell_type": "code",
   "execution_count": 6,
   "id": "f91e1b5b",
   "metadata": {},
   "outputs": [],
   "source": [
    "# shorten column names\n",
    "raw_data.rename(columns={' Assigned task': 'task', 'Start date': 'date'}, inplace = True)"
   ]
  },
  {
   "cell_type": "code",
   "execution_count": 7,
   "id": "2440529b",
   "metadata": {},
   "outputs": [],
   "source": [
    "# put date in datetime format\n",
    "raw_data['date'] = pd.to_datetime(raw_data['date'])"
   ]
  },
  {
   "cell_type": "code",
   "execution_count": 8,
   "id": "d1a219a0",
   "metadata": {},
   "outputs": [],
   "source": [
    "# Make all the tasks lowercase for plot sorting\n",
    "raw_data['task'] = raw_data['task'].str.lower()"
   ]
  },
  {
   "cell_type": "code",
   "execution_count": 9,
   "id": "5c042bec",
   "metadata": {},
   "outputs": [],
   "source": [
    "# Change one task name to be more descriptive\n",
    "raw_data['task'].replace({'reading': 'research'}, inplace = True)"
   ]
  },
  {
   "cell_type": "code",
   "execution_count": 10,
   "id": "81557ac1",
   "metadata": {},
   "outputs": [],
   "source": [
    "# add separate year and month columns\n",
    "raw_data['year'] = raw_data['date'].dt.year\n",
    "raw_data['month'] = raw_data['date'].dt.month"
   ]
  },
  {
   "cell_type": "markdown",
   "id": "76173217",
   "metadata": {},
   "source": [
    "## Collect the important tasks from the past month of data"
   ]
  },
  {
   "cell_type": "code",
   "execution_count": 11,
   "id": "d0347bef",
   "metadata": {},
   "outputs": [],
   "source": [
    "current_date = datetime.now()\n",
    "month_ago = current_date - pd.DateOffset(months=1)\n",
    "month_ago = pd.Timestamp(month_ago).replace(hour=0, minute=0, second=0)\n",
    "year_ago = current_date - pd.DateOffset(months=13) - pd.DateOffset(days = (current_date.day - 1))\n",
    "year_ago = pd.Timestamp(year_ago).replace(hour=0, minute=0, second=0)"
   ]
  },
  {
   "cell_type": "code",
   "execution_count": 12,
   "id": "ce1dd7b8",
   "metadata": {},
   "outputs": [],
   "source": [
    "most_important_tasks = ['email', 'research', 'writing', 'financial/adult','python', 'health', 'leisure reading']"
   ]
  },
  {
   "cell_type": "code",
   "execution_count": 13,
   "id": "49aed456",
   "metadata": {},
   "outputs": [],
   "source": [
    "last_months_intervals = raw_data[(raw_data['year'] == month_ago.year) & (raw_data['month'] == month_ago.month)]"
   ]
  },
  {
   "cell_type": "code",
   "execution_count": 14,
   "id": "da8a2b88",
   "metadata": {},
   "outputs": [],
   "source": [
    "last_months_intervals = last_months_intervals.loc[last_months_intervals['task'].isin(most_important_tasks)]"
   ]
  },
  {
   "cell_type": "markdown",
   "id": "593d3060",
   "metadata": {},
   "source": [
    "## Gather the past 13 months totals"
   ]
  },
  {
   "cell_type": "code",
   "execution_count": 15,
   "id": "9c82812e",
   "metadata": {},
   "outputs": [],
   "source": [
    "firstday_last_month = last_months_intervals['date'].min()\n",
    "lastday_last_month = last_months_intervals['date'].max()\n",
    "firstday_last_month = pd.Timestamp(firstday_last_month).replace(hour=0, minute=0, second=0)\n",
    "lastday_last_month = pd.Timestamp(lastday_last_month).replace(hour=0, minute=0, second=0)"
   ]
  },
  {
   "cell_type": "code",
   "execution_count": 16,
   "id": "0fc6414d",
   "metadata": {},
   "outputs": [],
   "source": [
    "last_years_intervals = raw_data[(raw_data['date'] >= year_ago) & (raw_data['date'] <= lastday_last_month)]"
   ]
  },
  {
   "cell_type": "code",
   "execution_count": 17,
   "id": "7463e73b",
   "metadata": {},
   "outputs": [],
   "source": [
    "mois = last_years_intervals.date.dt.to_period(\"M\")"
   ]
  },
  {
   "cell_type": "markdown",
   "id": "d4acaf1d",
   "metadata": {},
   "source": [
    "## Plot them side-by-side\n",
    "### Uncomment plt.savefig if  you want to save the visualizaations"
   ]
  },
  {
   "cell_type": "code",
   "execution_count": 18,
   "id": "1532c29a",
   "metadata": {},
   "outputs": [
    {
     "data": {
      "image/png": "[encoded data removed]",
      "text/plain": [
       "<Figure size 1080x288 with 2 Axes>"
      ]
     },
     "metadata": {
      "needs_background": "light"
     },
     "output_type": "display_data"
    }
   ],
   "source": [
    "fig, ax = plt.subplots(ncols=2, figsize=(15,4))\n",
    "\n",
    "last_months_intervals.groupby(last_months_intervals['task']).count().plot(kind='bar', color = '#3393FF',\n",
    "                                legend = False, ylabel = 'Intervals Completed', xlabel = '', sort_columns = True,\n",
    "                                rot = 45, title = month_ago.strftime(\"%B %Y\"),ax = ax[0])\n",
    "\n",
    "\n",
    " \n",
    "last_years_intervals.groupby(mois)['task'].count().plot(kind='bar', color = '#3393FF', rot = 45,\n",
    "                        ylabel = 'Intervals Completed', xlabel = '', title='Historical Totals', ax=ax[1]).grid(axis='y')\n",
    " \n",
    "plt.subplots_adjust(wspace = 0.4)\n",
    "plt.tight_layout()    \n",
    "# plt.savefig('monthly_dashboard.png',dpi=300)\n",
    "plt.show()"
   ]
  },
  {
   "cell_type": "code",
   "execution_count": 19,
   "id": "2c91981a",
   "metadata": {},
   "outputs": [
    {
     "name": "stdout",
     "output_type": "stream",
     "text": [
      "You did not do even a single interval of the following: writing.\n"
     ]
    }
   ],
   "source": [
    "# Tell me which tasks I didn't do at all\n",
    "\n",
    "tasks_never_did = most_important_tasks.copy()\n",
    "for index, value in last_months_intervals['task'].iteritems():\n",
    "    if value in tasks_never_did:\n",
    "            tasks_never_did.remove(value)\n",
    "\n",
    "            \n",
    "if len(tasks_never_did) == 0:\n",
    "    print('Congratuations! You did at least one interval of every important task!')\n",
    "else:\n",
    "    print(f'You did not do even a single interval of the following: {\", \".join(tasks_never_did)}.')"
   ]
  },
  {
   "cell_type": "code",
   "execution_count": null,
   "id": "72fbf4b9",
   "metadata": {},
   "outputs": [],
   "source": []
  }
 ],
 "metadata": {
  "kernelspec": {
   "display_name": "Python 3 (ipykernel)",
   "language": "python",
   "name": "python3"
  },
  "language_info": {
   "codemirror_mode": {
    "name": "ipython",
    "version": 3
   },
   "file_extension": ".py",
   "mimetype": "text/x-python",
   "name": "python",
   "nbconvert_exporter": "python",
   "pygments_lexer": "ipython3",
   "version": "3.9.12"
  }
 },
 "nbformat": 4,
 "nbformat_minor": 5
}
